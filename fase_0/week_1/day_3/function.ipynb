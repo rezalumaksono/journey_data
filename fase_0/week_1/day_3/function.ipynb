{
 "cells": [
  {
   "cell_type": "code",
   "execution_count": 72,
   "metadata": {},
   "outputs": [
    {
     "name": "stdout",
     "output_type": "stream",
     "text": [
      "soto\n"
     ]
    }
   ],
   "source": [
    "def nama_makanan (makanan):\n",
    "   \n",
    "    print(makanan)\n",
    "nama_makanan('soto' )"
   ]
  },
  {
   "cell_type": "code",
   "execution_count": 65,
   "metadata": {},
   "outputs": [
    {
     "name": "stdout",
     "output_type": "stream",
     "text": [
      "luas segitiga: 12.00\n"
     ]
    }
   ],
   "source": [
    "def luas_segitiga(alas,tinggi):\n",
    "    luas= (alas*tinggi)/2\n",
    "    print('luas segitiga: %.2f' %luas)\n",
    "luas_segitiga(4,6)"
   ]
  },
  {
   "cell_type": "code",
   "execution_count": 66,
   "metadata": {},
   "outputs": [
    {
     "data": {
      "text/plain": [
       "12.0"
      ]
     },
     "execution_count": 66,
     "metadata": {},
     "output_type": "execute_result"
    }
   ],
   "source": [
    "def luas_segitiga(alas,tinggi):\n",
    "    luas= (alas*tinggi)/2\n",
    "    return luas\n",
    "luas_segitiga(4,6)"
   ]
  },
  {
   "cell_type": "code",
   "execution_count": 73,
   "metadata": {},
   "outputs": [
    {
     "name": "stdout",
     "output_type": "stream",
     "text": [
      "teman saya namanya:joko\n"
     ]
    }
   ],
   "source": [
    "def nama_orang(*nama):\n",
    "    print('teman saya namanya:'+nama[2])\n",
    "\n",
    "nama_orang('irfan','sardi', 'joko', 'tono')"
   ]
  },
  {
   "cell_type": "code",
   "execution_count": 76,
   "metadata": {},
   "outputs": [
    {
     "name": "stdout",
     "output_type": "stream",
     "text": [
      "Nama: kuda\n",
      "Umur: 28\n",
      "Nama: kambing\n",
      "Umur: 27\n"
     ]
    }
   ],
   "source": [
    "def printinfo(nama,umur=27):\n",
    "    print('Nama:',nama)\n",
    "    print('Umur:', umur)\n",
    "\n",
    "printinfo(umur= 28, nama= 'kuda')\n",
    "printinfo(nama='kambing')"
   ]
  },
  {
   "cell_type": "code",
   "execution_count": 83,
   "metadata": {},
   "outputs": [
    {
     "name": "stdout",
     "output_type": "stream",
     "text": [
      "honda\n"
     ]
    }
   ],
   "source": [
    "def merk_mobil(*merk):\n",
    "    print(merk[1])\n",
    "merk_mobil('toyota','honda','ford')"
   ]
  },
  {
   "cell_type": "code",
   "execution_count": 87,
   "metadata": {},
   "outputs": [
    {
     "data": {
      "text/plain": [
       "325"
      ]
     },
     "execution_count": 87,
     "metadata": {},
     "output_type": "execute_result"
    }
   ],
   "source": [
    "# Lambda\n",
    "hitung=lambda x,y : x**2+y**2\n",
    "hitung(10,15)"
   ]
  },
  {
   "cell_type": "code",
   "execution_count": 94,
   "metadata": {},
   "outputs": [
    {
     "name": "stdout",
     "output_type": "stream",
     "text": [
      "Temperature in celcius (C)= 89.6\n"
     ]
    }
   ],
   "source": [
    "def convert(fahr,kelv):\n",
    "    cels=fahr*1.8+32.0\n",
    "    cels2=kelv -273,15\n",
    "    return cels\n",
    "print(\"Temperature in celcius (C)=\", convert(32,20))"
   ]
  },
  {
   "cell_type": "code",
   "execution_count": null,
   "metadata": {},
   "outputs": [],
   "source": []
  }
 ],
 "metadata": {
  "interpreter": {
   "hash": "ef25b1aeedf49b7e4fc6a8fc7fede5a154ceb2d9a1646c4d8508784d46cb5306"
  },
  "kernelspec": {
   "display_name": "Python 3.10.1 64-bit",
   "language": "python",
   "name": "python3"
  },
  "language_info": {
   "codemirror_mode": {
    "name": "ipython",
    "version": 3
   },
   "file_extension": ".py",
   "mimetype": "text/x-python",
   "name": "python",
   "nbconvert_exporter": "python",
   "pygments_lexer": "ipython3",
   "version": "3.10.1"
  },
  "orig_nbformat": 4
 },
 "nbformat": 4,
 "nbformat_minor": 2
}
