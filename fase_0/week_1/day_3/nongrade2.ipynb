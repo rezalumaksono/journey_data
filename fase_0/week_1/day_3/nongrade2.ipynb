{
 "cells": [
  {
   "cell_type": "code",
   "execution_count": 3,
   "metadata": {},
   "outputs": [
    {
     "name": "stdout",
     "output_type": "stream",
     "text": [
      "Temperatur Celcius adalah 12.850000000000023 C\n",
      "Temperatur Kelcius adalah 303.15 K\n"
     ]
    }
   ],
   "source": [
    "def convertKelvCelc (kelv, celc):\n",
    "    temp1= kelv -273.15\n",
    "    temp2= celc +273.15\n",
    "    return temp1,temp2\n",
    "c2k = convertKelvCelc (286, 30)\n",
    "print(f\"Temperatur Celcius adalah {c2k[0]} C\")\n",
    "print(f\"Temperatur Kelcius adalah {c2k[1]} K\")\n",
    "\n",
    "\n"
   ]
  },
  {
   "cell_type": "code",
   "execution_count": 6,
   "metadata": {},
   "outputs": [
    {
     "name": "stdout",
     "output_type": "stream",
     "text": [
      "Temperatur dari Celcius Fahrenheit adalah 86.0 F\n",
      "Temperatur dari Kelvin Fahrenheit adalah 80.33000000000004 F\n"
     ]
    }
   ],
   "source": [
    "def converttofahr(celc, kelv):\n",
    "    fahr1=celc*1.8 +32.0\n",
    "    fahr2=(kelv -273.15)*1.8+32\n",
    "    return fahr1, fahr2\n",
    "k2f =converttofahr(30, 300)\n",
    "print(f\"Temperatur dari Celcius Fahrenheit adalah {k2f[0]} F\")\n",
    "print(f\"Temperatur dari Kelvin Fahrenheit adalah {k2f[1]} F\")"
   ]
  },
  {
   "cell_type": "code",
   "execution_count": 15,
   "metadata": {},
   "outputs": [
    {
     "name": "stdout",
     "output_type": "stream",
     "text": [
      "Temperatir Fahrenheit ke Celcius adalah 24.0 C\n"
     ]
    }
   ],
   "source": [
    "def converttoCelc(farh):\n",
    "    temp=(farh-32)*0.5\n",
    "    return temp\n",
    "f2c=converttoCelc(80)\n",
    "print(f\"Temperatir Fahrenheit ke Celcius adalah {f2c} C\")"
   ]
  }
 ],
 "metadata": {
  "interpreter": {
   "hash": "ef25b1aeedf49b7e4fc6a8fc7fede5a154ceb2d9a1646c4d8508784d46cb5306"
  },
  "kernelspec": {
   "display_name": "Python 3.10.1 64-bit",
   "language": "python",
   "name": "python3"
  },
  "language_info": {
   "codemirror_mode": {
    "name": "ipython",
    "version": 3
   },
   "file_extension": ".py",
   "mimetype": "text/x-python",
   "name": "python",
   "nbconvert_exporter": "python",
   "pygments_lexer": "ipython3",
   "version": "3.10.1"
  },
  "orig_nbformat": 4
 },
 "nbformat": 4,
 "nbformat_minor": 2
}
